{
 "cells": [
  {
   "cell_type": "code",
   "execution_count": 1,
   "id": "4509eedc-eb7b-47d3-8cdb-266bb94d3bc6",
   "metadata": {},
   "outputs": [
    {
     "data": {
      "text/plain": [
       "array([1, 2, 3])"
      ]
     },
     "execution_count": 1,
     "metadata": {},
     "output_type": "execute_result"
    }
   ],
   "source": [
    "import numpy as np #nump np adı ile eklendi\n",
    "np.array([1,2,3]) #np kullanılarak liste oluşturuldu"
   ]
  },
  {
   "cell_type": "code",
   "execution_count": 2,
   "id": "bc34bfc7-90d1-406e-aa94-e2a582f5fda1",
   "metadata": {},
   "outputs": [],
   "source": [
    "a=np.array([1,2,3])"
   ]
  },
  {
   "cell_type": "code",
   "execution_count": 3,
   "id": "fbc9ce71-14e2-4aa7-890c-2ca77634f636",
   "metadata": {},
   "outputs": [
    {
     "data": {
      "text/plain": [
       "array([1.  , 2.  , 3.  , 3.14])"
      ]
     },
     "execution_count": 3,
     "metadata": {},
     "output_type": "execute_result"
    }
   ],
   "source": [
    "dizi=np.array([1,2,3,3.14])\n",
    "dizi"
   ]
  },
  {
   "cell_type": "code",
   "execution_count": 9,
   "id": "d29374c3-e641-4da6-a877-8a4048934423",
   "metadata": {},
   "outputs": [
    {
     "data": {
      "text/plain": [
       "array([1, 2, 3, 3])"
      ]
     },
     "execution_count": 9,
     "metadata": {},
     "output_type": "execute_result"
    }
   ],
   "source": [
    "dizi=np.array([1,2,3,3.14],dtype=int)\n",
    "dizi"
   ]
  },
  {
   "cell_type": "code",
   "execution_count": 24,
   "id": "c5668414-ed00-4975-971a-e794403e7047",
   "metadata": {},
   "outputs": [
    {
     "data": {
      "text/plain": [
       "array([1, 2, 3])"
      ]
     },
     "execution_count": 24,
     "metadata": {},
     "output_type": "execute_result"
    }
   ],
   "source": [
    "birboyut=np.array([1,2,3])\n",
    "birboyut #tek boyutlu dizi"
   ]
  },
  {
   "cell_type": "code",
   "execution_count": 25,
   "id": "29f29537-99f7-44de-9007-df4ea1b9ca09",
   "metadata": {},
   "outputs": [
    {
     "data": {
      "text/plain": [
       "array([[1, 2, 3],\n",
       "       [4, 5, 6]])"
      ]
     },
     "execution_count": 25,
     "metadata": {},
     "output_type": "execute_result"
    }
   ],
   "source": [
    "ikiboyut = np.array([[1,2,3], [4,5,6]])\n",
    "ikiboyut #iki boyutlu dizi"
   ]
  },
  {
   "cell_type": "code",
   "execution_count": 26,
   "id": "4c3a4676-c3b9-43be-a0ba-524a6926e82d",
   "metadata": {},
   "outputs": [
    {
     "data": {
      "text/plain": [
       "array([[[1, 2, 3],\n",
       "        [4, 5, 6]],\n",
       "\n",
       "       [[1, 2, 3],\n",
       "        [4, 5, 6]]])"
      ]
     },
     "execution_count": 26,
     "metadata": {},
     "output_type": "execute_result"
    }
   ],
   "source": [
    "ucboyut= np.array([[[1,2,3], [4,5,6]], [[1,2,3], [4,5,6]]])\n",
    "ucboyut #üç boyutlu dizi\n"
   ]
  },
  {
   "cell_type": "code",
   "execution_count": 13,
   "id": "5073d5ae-782a-4230-a5da-90e04915d2bf",
   "metadata": {},
   "outputs": [
    {
     "data": {
      "text/plain": [
       "array([0., 0., 0., 0., 0.])"
      ]
     },
     "execution_count": 13,
     "metadata": {},
     "output_type": "execute_result"
    }
   ],
   "source": [
    "np.zeros(5) #sıfırdan oluşan dize"
   ]
  },
  {
   "cell_type": "code",
   "execution_count": 14,
   "id": "0161a9b9-7e38-45a0-bbf9-0c0c5008d75e",
   "metadata": {},
   "outputs": [
    {
     "data": {
      "text/plain": [
       "array([[0., 0., 0.],\n",
       "       [0., 0., 0.],\n",
       "       [0., 0., 0.],\n",
       "       [0., 0., 0.]])"
      ]
     },
     "execution_count": 14,
     "metadata": {},
     "output_type": "execute_result"
    }
   ],
   "source": [
    "np.zeros((4,3)) #sıfırdan oluşan dize"
   ]
  },
  {
   "cell_type": "code",
   "execution_count": 15,
   "id": "0b3584f4-95b1-4df8-94e2-26816b9f3867",
   "metadata": {},
   "outputs": [
    {
     "data": {
      "text/plain": [
       "array([[0, 0, 0],\n",
       "       [0, 0, 0],\n",
       "       [0, 0, 0],\n",
       "       [0, 0, 0]])"
      ]
     },
     "execution_count": 15,
     "metadata": {},
     "output_type": "execute_result"
    }
   ],
   "source": [
    "np.zeros((4,3),dtype=int) #sıfırdan oluşan dize"
   ]
  },
  {
   "cell_type": "code",
   "execution_count": 27,
   "id": "b4308dcb-4a98-42ef-851d-fecb082863a4",
   "metadata": {},
   "outputs": [
    {
     "data": {
      "text/plain": [
       "array([1., 1., 1., 1., 1.])"
      ]
     },
     "execution_count": 27,
     "metadata": {},
     "output_type": "execute_result"
    }
   ],
   "source": [
    "np.ones(5) #tek tek dize oluşturur"
   ]
  },
  {
   "cell_type": "code",
   "execution_count": 28,
   "id": "23ccbbf5-7bf8-4f6c-a51f-77ebeea5ba3d",
   "metadata": {},
   "outputs": [
    {
     "data": {
      "text/plain": [
       "array([[1., 1., 1.],\n",
       "       [1., 1., 1.],\n",
       "       [1., 1., 1.],\n",
       "       [1., 1., 1.]])"
      ]
     },
     "execution_count": 28,
     "metadata": {},
     "output_type": "execute_result"
    }
   ],
   "source": [
    "np.ones((4,3))"
   ]
  },
  {
   "cell_type": "code",
   "execution_count": 29,
   "id": "1b3c2f6b-07ce-444a-9945-4a84585c273a",
   "metadata": {},
   "outputs": [
    {
     "data": {
      "text/plain": [
       "array([[1, 1, 1],\n",
       "       [1, 1, 1],\n",
       "       [1, 1, 1],\n",
       "       [1, 1, 1]])"
      ]
     },
     "execution_count": 29,
     "metadata": {},
     "output_type": "execute_result"
    }
   ],
   "source": [
    "np.ones((4,3),dtype=int)"
   ]
  },
  {
   "cell_type": "code",
   "execution_count": 30,
   "id": "c1f72764-2eaf-4e83-99ef-f1e96cfa65e4",
   "metadata": {},
   "outputs": [
    {
     "data": {
      "text/plain": [
       "array([[10, 10, 10],\n",
       "       [10, 10, 10],\n",
       "       [10, 10, 10],\n",
       "       [10, 10, 10]])"
      ]
     },
     "execution_count": 30,
     "metadata": {},
     "output_type": "execute_result"
    }
   ],
   "source": [
    "np.full((4,3),10) #full dize oluşturur"
   ]
  },
  {
   "cell_type": "code",
   "execution_count": 31,
   "id": "694aafee-8eb6-486e-a8e0-351702d8c1c8",
   "metadata": {},
   "outputs": [
    {
     "data": {
      "text/plain": [
       "array([ 1,  3,  5,  7,  9, 11, 13, 15, 17, 19, 21, 23, 25, 27, 29])"
      ]
     },
     "execution_count": 31,
     "metadata": {},
     "output_type": "execute_result"
    }
   ],
   "source": [
    "np.arange(1,30,2) #başlangıç, bitiş ve artış değerleri"
   ]
  },
  {
   "cell_type": "code",
   "execution_count": 32,
   "id": "46852ea7-3522-4a43-a973-2fc228e74940",
   "metadata": {},
   "outputs": [
    {
     "data": {
      "text/plain": [
       "array([ 0. ,  2.5,  5. ,  7.5, 10. ])"
      ]
     },
     "execution_count": 32,
     "metadata": {},
     "output_type": "execute_result"
    }
   ],
   "source": [
    "np.linspace(0, 10, num=5) #belirli bir aralıkta eşit aralıklı sayılar"
   ]
  },
  {
   "cell_type": "code",
   "execution_count": 33,
   "id": "d3849322-d253-4c8e-91b0-a76849620075",
   "metadata": {},
   "outputs": [
    {
     "data": {
      "text/plain": [
       "array([2, 7, 4, 4, 4])"
      ]
     },
     "execution_count": 33,
     "metadata": {},
     "output_type": "execute_result"
    }
   ],
   "source": [
    "np.random.randint(0,10,5) #belirli bir aralıkta rastgele sayılar"
   ]
  },
  {
   "cell_type": "code",
   "execution_count": 34,
   "id": "d6f2a8db-cc5e-4f11-b5ff-7f06937c5987",
   "metadata": {},
   "outputs": [
    {
     "data": {
      "text/plain": [
       "array([[2, 0, 0],\n",
       "       [9, 9, 0],\n",
       "       [9, 7, 4],\n",
       "       [3, 2, 6]])"
      ]
     },
     "execution_count": 34,
     "metadata": {},
     "output_type": "execute_result"
    }
   ],
   "source": [
    "np.random.randint(0,10,(4,3)) "
   ]
  },
  {
   "cell_type": "code",
   "execution_count": null,
   "id": "b42a2f5a-ea82-4b89-94fb-c2a5385c7b99",
   "metadata": {},
   "outputs": [],
   "source": []
  }
 ],
 "metadata": {
  "kernelspec": {
   "display_name": "Python 3 (ipykernel)",
   "language": "python",
   "name": "python3"
  },
  "language_info": {
   "codemirror_mode": {
    "name": "ipython",
    "version": 3
   },
   "file_extension": ".py",
   "mimetype": "text/x-python",
   "name": "python",
   "nbconvert_exporter": "python",
   "pygments_lexer": "ipython3",
   "version": "3.11.7"
  }
 },
 "nbformat": 4,
 "nbformat_minor": 5
}
