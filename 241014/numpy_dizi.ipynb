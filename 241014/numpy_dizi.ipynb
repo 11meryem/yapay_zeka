{
 "cells": [
  {
   "cell_type": "code",
   "execution_count": 1,
   "id": "c7ac0750-df0c-4c83-ad08-8de5ab61b048",
   "metadata": {},
   "outputs": [],
   "source": [
    "import numpy as np #numpy kütüphanesini np takma adı ile projeye dahil ediyoruz"
   ]
  },
  {
   "cell_type": "code",
   "execution_count": 22,
   "id": "abf7d20a-670d-4dee-bbb3-0bc80697752a",
   "metadata": {},
   "outputs": [
    {
     "data": {
      "text/plain": [
       "array([[5, 5, 5],\n",
       "       [5, 5, 5],\n",
       "       [5, 5, 5],\n",
       "       [5, 5, 5]])"
      ]
     },
     "execution_count": 22,
     "metadata": {},
     "output_type": "execute_result"
    }
   ],
   "source": [
    "dizi=np.full((4,3),5)\n",
    "dizi #np.full((satir,sütun),eleman) olarak yazar"
   ]
  },
  {
   "cell_type": "code",
   "execution_count": 3,
   "id": "fe91db1f-fcfa-4117-b011-afca4d8ea3bd",
   "metadata": {},
   "outputs": [
    {
     "data": {
      "text/plain": [
       "array([1, 2, 3])"
      ]
     },
     "execution_count": 3,
     "metadata": {},
     "output_type": "execute_result"
    }
   ],
   "source": [
    "#yeni bir numpy dizisi oluşturuyoruz\n",
    "np.array([1,2,3])"
   ]
  },
  {
   "cell_type": "code",
   "execution_count": 4,
   "id": "093cd182-87ca-493b-aebc-b2473536e2fd",
   "metadata": {},
   "outputs": [],
   "source": [
    "#oluşturduğumuz diziyi bir değişkene aktarıyoruz\n",
    "dizi=np.array([\"elma\",\"erik\",\"iğde\"])"
   ]
  },
  {
   "cell_type": "code",
   "execution_count": 21,
   "id": "c1c60fc7-6844-4692-a2b0-a8cb2a74bf10",
   "metadata": {},
   "outputs": [
    {
     "data": {
      "text/plain": [
       "array([1, 2, 3])"
      ]
     },
     "execution_count": 21,
     "metadata": {},
     "output_type": "execute_result"
    }
   ],
   "source": [
    "dizi"
   ]
  },
  {
   "cell_type": "code",
   "execution_count": 20,
   "id": "3f9029df-1a10-4634-9d1f-40223d8ed706",
   "metadata": {},
   "outputs": [
    {
     "data": {
      "text/plain": [
       "array([1, 2, 3])"
      ]
     },
     "execution_count": 20,
     "metadata": {},
     "output_type": "execute_result"
    }
   ],
   "source": [
    "dizi=np.array([1,2,3])\n",
    "#normal 1, 2, 3 diye yazar\n",
    "dizi"
   ]
  },
  {
   "cell_type": "code",
   "execution_count": 18,
   "id": "4cac17b0-0fc9-4048-8e60-4824cf7c5a63",
   "metadata": {},
   "outputs": [
    {
     "data": {
      "text/plain": [
       "array([1.  , 2.  , 3.14])"
      ]
     },
     "execution_count": 18,
     "metadata": {},
     "output_type": "execute_result"
    }
   ],
   "source": [
    "dizi=np.array([1,2,3.14])\n",
    "#ondalıklı olarak yazar\n",
    "dizi"
   ]
  },
  {
   "cell_type": "code",
   "execution_count": 12,
   "id": "6158c0de-2ef4-4189-8f79-51b937b81c6a",
   "metadata": {},
   "outputs": [
    {
     "data": {
      "text/plain": [
       "dtype('float64')"
      ]
     },
     "execution_count": 12,
     "metadata": {},
     "output_type": "execute_result"
    }
   ],
   "source": [
    "dizi.dtype #dizinin değişken türünü verir.\n",
    "#numpy dizilerinde elemanların hepsi aynı türdendir"
   ]
  },
  {
   "cell_type": "code",
   "execution_count": 38,
   "id": "4ad48ca1-b2e2-487f-965c-57a9045c999d",
   "metadata": {},
   "outputs": [
    {
     "data": {
      "text/plain": [
       "array([1, 2, 3])"
      ]
     },
     "execution_count": 38,
     "metadata": {},
     "output_type": "execute_result"
    }
   ],
   "source": [
    "dizi=np.array([1,2,3.14], dtype=int)\n",
    "# 3.14ü ondalıklı sayıyı tam sayıya çevirir\n",
    "dizi"
   ]
  },
  {
   "cell_type": "code",
   "execution_count": 40,
   "id": "0be1d4a3-14fe-4079-8a6e-dec7cf1535bf",
   "metadata": {},
   "outputs": [
    {
     "data": {
      "text/plain": [
       "array([[5, 2, 1, 1, 4, 5, 0],\n",
       "       [2, 4, 1, 6, 1, 9, 4],\n",
       "       [3, 6, 5, 4, 8, 8, 1],\n",
       "       [5, 3, 9, 9, 8, 7, 8],\n",
       "       [3, 9, 7, 0, 0, 2, 9]])"
      ]
     },
     "execution_count": 40,
     "metadata": {},
     "output_type": "execute_result"
    }
   ],
   "source": [
    "dizi=np.random.randint(0,10,(5,7),dtype=int)\n",
    "dizi\n",
    "#5 satır 7 sütundan oluşan rastgele sayılardan oluşan int türünde bir değişken oluşturur"
   ]
  },
  {
   "cell_type": "code",
   "execution_count": 41,
   "id": "4fb3a144-5242-496c-89eb-bb3a1769a779",
   "metadata": {},
   "outputs": [],
   "source": [
    "#bir boyutlu dizi oluşturma\n",
    "birboyut=np.array([1,2,3,4])\n",
    "#iki boyutlu dizi oluşturma\n",
    "ikiboyut=np.array([[1,2,3,4],[5,6,7,8],[9,10,11,12]])"
   ]
  },
  {
   "cell_type": "code",
   "execution_count": 42,
   "id": "b6f20e79-13c8-49d7-b1d6-1f0255bd88bc",
   "metadata": {},
   "outputs": [
    {
     "data": {
      "text/plain": [
       "array([1, 2, 3, 4])"
      ]
     },
     "execution_count": 42,
     "metadata": {},
     "output_type": "execute_result"
    }
   ],
   "source": [
    "birboyut"
   ]
  },
  {
   "cell_type": "code",
   "execution_count": 43,
   "id": "294c3fa5-18bb-42fa-a9b0-bddf9f5983e3",
   "metadata": {},
   "outputs": [
    {
     "data": {
      "text/plain": [
       "array([[ 1,  2,  3,  4],\n",
       "       [ 5,  6,  7,  8],\n",
       "       [ 9, 10, 11, 12]])"
      ]
     },
     "execution_count": 43,
     "metadata": {},
     "output_type": "execute_result"
    }
   ],
   "source": [
    "ikiboyut"
   ]
  },
  {
   "cell_type": "code",
   "execution_count": 44,
   "id": "63bd608d-69b6-4b5b-98ae-bc1a2e8a340d",
   "metadata": {},
   "outputs": [
    {
     "data": {
      "text/plain": [
       "array([0., 0., 0., 0., 0., 0., 0.])"
      ]
     },
     "execution_count": 44,
     "metadata": {},
     "output_type": "execute_result"
    }
   ],
   "source": [
    "np.zeros(7)\n",
    "#7 sıfırdan olusan tek boyutlu dizi "
   ]
  },
  {
   "cell_type": "code",
   "execution_count": 45,
   "id": "17fde994-3ba8-4e5e-ac53-f9d14f823819",
   "metadata": {},
   "outputs": [
    {
     "data": {
      "text/plain": [
       "array([[0, 0, 0],\n",
       "       [0, 0, 0]])"
      ]
     },
     "execution_count": 45,
     "metadata": {},
     "output_type": "execute_result"
    }
   ],
   "source": [
    "np.zeros((2,3),dtype=int)\n",
    "#sıfırdan oluşan 2 boyutlu int dizi oluştrur"
   ]
  },
  {
   "cell_type": "code",
   "execution_count": 47,
   "id": "16fcc950-65a9-4db4-a5c3-9d3fec35d7db",
   "metadata": {},
   "outputs": [
    {
     "data": {
      "text/plain": [
       "array([1., 1., 1.])"
      ]
     },
     "execution_count": 47,
     "metadata": {},
     "output_type": "execute_result"
    }
   ],
   "source": [
    "np.ones(3)\n",
    "# 3 tane 1 yazar"
   ]
  },
  {
   "cell_type": "code",
   "execution_count": 48,
   "id": "48bbe4be-6ffe-4f9c-8d86-3d5c26d4697e",
   "metadata": {},
   "outputs": [
    {
     "data": {
      "text/plain": [
       "array([[5, 5, 5],\n",
       "       [5, 5, 5],\n",
       "       [5, 5, 5],\n",
       "       [5, 5, 5]])"
      ]
     },
     "execution_count": 48,
     "metadata": {},
     "output_type": "execute_result"
    }
   ],
   "source": [
    "np.full((4,3),5)\n",
    "# 5 sayıdan oluşan 2*3 lük dizi"
   ]
  },
  {
   "cell_type": "code",
   "execution_count": 49,
   "id": "ba83c97b-a419-453f-a973-a56efd65a690",
   "metadata": {},
   "outputs": [
    {
     "data": {
      "text/plain": [
       "array([ 2,  7, 12, 17])"
      ]
     },
     "execution_count": 49,
     "metadata": {},
     "output_type": "execute_result"
    }
   ],
   "source": [
    "np.arange(2,22,5)\n",
    "#başlangıç , bitiş ve artış değerine göre dizi"
   ]
  },
  {
   "cell_type": "code",
   "execution_count": 51,
   "id": "e8434333-bd4e-4adc-b6d8-6501f4d5c11c",
   "metadata": {},
   "outputs": [
    {
     "data": {
      "text/plain": [
       "array([ 2.        ,  3.33333333,  4.66666667,  6.        ,  7.33333333,\n",
       "        8.66666667, 10.        ])"
      ]
     },
     "execution_count": 51,
     "metadata": {},
     "output_type": "execute_result"
    }
   ],
   "source": [
    "np.linspace(2,10,num=7)\n",
    "# başlangıç ve bitis değeri aralığında belirtilen miktarda eşit aralık"
   ]
  },
  {
   "cell_type": "code",
   "execution_count": 52,
   "id": "964f8ed0-6b24-4a95-8b54-e2ea732f8bfe",
   "metadata": {},
   "outputs": [
    {
     "data": {
      "text/plain": [
       "array([3, 3, 6, 6, 2])"
      ]
     },
     "execution_count": 52,
     "metadata": {},
     "output_type": "execute_result"
    }
   ],
   "source": [
    "np.random.randint(0,10,5)\n",
    "#0-10 aralığında rastgele 5 sayıdan oluşan bir boyut dizi"
   ]
  },
  {
   "cell_type": "code",
   "execution_count": 54,
   "id": "090ee1e9-766a-4ac6-bb25-31412b74794a",
   "metadata": {},
   "outputs": [
    {
     "data": {
      "text/plain": [
       "array([[5, 8],\n",
       "       [9, 8],\n",
       "       [6, 9],\n",
       "       [4, 8],\n",
       "       [6, 4]])"
      ]
     },
     "execution_count": 54,
     "metadata": {},
     "output_type": "execute_result"
    }
   ],
   "source": [
    "np.random.randint(0,10,(5,2))\n",
    "# 0-10 aralığında 5*2 rastgele sayıdan oluşan 2 boyutlu dizi"
   ]
  },
  {
   "cell_type": "code",
   "execution_count": 55,
   "id": "db7d439c-480b-4db8-8dfc-a801704b7ad1",
   "metadata": {},
   "outputs": [
    {
     "data": {
      "text/plain": [
       "(3, 4)"
      ]
     },
     "execution_count": 55,
     "metadata": {},
     "output_type": "execute_result"
    }
   ],
   "source": [
    "#dizilerrin eleman sayısını öğrenmek için shape komutu kullanılır\n",
    "dizi=np.array([[1,2,3,4],[5,6,7,8],[9,101,11,12]])\n",
    "dizi.shape"
   ]
  },
  {
   "cell_type": "code",
   "execution_count": 56,
   "id": "ae140a4f-5302-4c84-be8c-75de47f78be0",
   "metadata": {},
   "outputs": [
    {
     "data": {
      "text/plain": [
       "2"
      ]
     },
     "execution_count": 56,
     "metadata": {},
     "output_type": "execute_result"
    }
   ],
   "source": [
    "#ndim dizi boyutunu öğrenmek için kullanılır\n",
    "dizi.ndim"
   ]
  },
  {
   "cell_type": "code",
   "execution_count": 58,
   "id": "c3c12e08-bfd9-4825-a91c-03f544977612",
   "metadata": {},
   "outputs": [
    {
     "data": {
      "text/plain": [
       "12"
      ]
     },
     "execution_count": 58,
     "metadata": {},
     "output_type": "execute_result"
    }
   ],
   "source": [
    "#size dizideki toplam eleman sayısını gösterir\n",
    "dizi.size"
   ]
  },
  {
   "cell_type": "code",
   "execution_count": 59,
   "id": "cd6bffef-a9c5-476e-8324-3d2735d43bbf",
   "metadata": {},
   "outputs": [
    {
     "data": {
      "text/plain": [
       "4"
      ]
     },
     "execution_count": 59,
     "metadata": {},
     "output_type": "execute_result"
    }
   ],
   "source": [
    "dizi.itemsize\n",
    "#dizideki her bir eleman bayt cinsinden değeri verir"
   ]
  },
  {
   "cell_type": "code",
   "execution_count": null,
   "id": "94e6193c-06a5-4ab1-8a42-2f510f87f479",
   "metadata": {},
   "outputs": [],
   "source": []
  }
 ],
 "metadata": {
  "kernelspec": {
   "display_name": "Python 3 (ipykernel)",
   "language": "python",
   "name": "python3"
  },
  "language_info": {
   "codemirror_mode": {
    "name": "ipython",
    "version": 3
   },
   "file_extension": ".py",
   "mimetype": "text/x-python",
   "name": "python",
   "nbconvert_exporter": "python",
   "pygments_lexer": "ipython3",
   "version": "3.11.7"
  }
 },
 "nbformat": 4,
 "nbformat_minor": 5
}
